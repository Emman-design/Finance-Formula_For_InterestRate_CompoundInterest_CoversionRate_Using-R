{
  "nbformat": 4,
  "nbformat_minor": 0,
  "metadata": {
    "colab": {
      "name": "DL Revised Implementation.ipynb",
      "provenance": [],
      "collapsed_sections": [],
      "include_colab_link": true
    },
    "kernelspec": {
      "name": "python3",
      "display_name": "Python 3"
    },
    "language_info": {
      "name": "python"
    }
  },
  "cells": [
    {
      "cell_type": "markdown",
      "metadata": {
        "id": "view-in-github",
        "colab_type": "text"
      },
      "source": [
        "<a href=\"https://colab.research.google.com/github/Emman-design/Finance-Formula_For_InterestRate_CompoundInterest_CoversionRate_Using-R/blob/master/DL_Revised_Implementation.ipynb\" target=\"_parent\"><img src=\"https://colab.research.google.com/assets/colab-badge.svg\" alt=\"Open In Colab\"/></a>"
      ]
    },
    {
      "cell_type": "code",
      "metadata": {
        "id": "TEqUIK0vlq7O"
      },
      "source": [
        "import sys\n",
        "import torch\n",
        "import torch.nn as nn\n",
        "import torch.optim as optim\n",
        "import random\n",
        "import torch.nn.functional as F"
      ],
      "execution_count": null,
      "outputs": []
    },
    {
      "cell_type": "markdown",
      "metadata": {
        "id": "LZOL-2FvGq6C"
      },
      "source": [
        "# Data Pre-Processing "
      ]
    },
    {
      "cell_type": "markdown",
      "metadata": {
        "id": "W93BBmnhGzzr"
      },
      "source": [
        "Read in the training file\n"
      ]
    },
    {
      "cell_type": "code",
      "metadata": {
        "id": "cRXLlIBFG5kO"
      },
      "source": [
        "def openFile(file): \n",
        "    '''\n",
        "    Description: Read in text file from CLI and return the input string and label in seperate arrays\n",
        "    Input: file \n",
        "    Output: Two arrays, input and target, containing the input and target strings respectively \n",
        "    '''\n",
        "    input = []\n",
        "    output = []\n",
        "    with open(file, 'r') as f:\n",
        "        for line in f: \n",
        "            if ',' in line:\n",
        "                currentLine = line.split(',')\n",
        "                input.append(currentLine[0])\n",
        "                output.append(currentLine[1].strip('\\n'))\n",
        "            else:\n",
        "                input.append(line.strip('\\n'))\n",
        "    return input, output"
      ],
      "execution_count": null,
      "outputs": []
    },
    {
      "cell_type": "code",
      "metadata": {
        "id": "xTi7QUHfBHQq"
      },
      "source": [
        "def writeFile(input, output):\n",
        "    '''\n",
        "    Description: write the input and predicted translation to a text file\n",
        "    Input: Original input to model\n",
        "    Output: Output of model\n",
        "    Return: None, text file stored in file path where code is exectued in CLI\n",
        "    '''\n",
        "    with open('result_predict.txt', 'a') as f:\n",
        "        for i in input: \n",
        "            f.write(input[i])\n",
        "            f.write(',')\n",
        "            f.write(output[i])\n",
        "            f.write('\\n')\n",
        "    return"
      ],
      "execution_count": null,
      "outputs": []
    },
    {
      "cell_type": "markdown",
      "metadata": {
        "id": "LPdBRhJBLkLU"
      },
      "source": [
        "Remove C and F from Output Sequence"
      ]
    },
    {
      "cell_type": "code",
      "metadata": {
        "id": "pzV6if-tLjRa"
      },
      "source": [
        "def removeCandF(input):\n",
        "    '''\n",
        "    Description: Because almost every output sequence as a C and F at the start and end (respectively) it is not necessary to have the model learn this pattern. So, this function removes the first and last letter from the set\n",
        "    of output sequences.\n",
        "\n",
        "    Input: Output sequences to be modified\n",
        "    Return: Output sequences without first and last indexes\n",
        "    '''\n",
        "\n",
        "    for i in range(len(input)): \n",
        "        input[i] = input[i][1:-1]\n",
        "    \n",
        "    return input"
      ],
      "execution_count": null,
      "outputs": []
    },
    {
      "cell_type": "code",
      "metadata": {
        "id": "cVszJwMDkJEQ"
      },
      "source": [
        "input, output = openFile('data_train.txt')"
      ],
      "execution_count": null,
      "outputs": []
    },
    {
      "cell_type": "code",
      "metadata": {
        "id": "hBPLBbF5LbBp"
      },
      "source": [
        "#output = removeCandF(output)"
      ],
      "execution_count": null,
      "outputs": []
    },
    {
      "cell_type": "code",
      "metadata": {
        "id": "GDWS6V8J58cB"
      },
      "source": [
        "max_length = len(max(output, key=len))"
      ],
      "execution_count": null,
      "outputs": []
    },
    {
      "cell_type": "code",
      "metadata": {
        "id": "oiiAMCNnjX-s"
      },
      "source": [
        "predictInput, _ = openFile('data_predict.txt')"
      ],
      "execution_count": null,
      "outputs": []
    },
    {
      "cell_type": "markdown",
      "metadata": {
        "id": "qZ09eYyTN9Ll"
      },
      "source": [
        "Combine into pairs"
      ]
    },
    {
      "cell_type": "code",
      "metadata": {
        "id": "tF5vQ258fjwM"
      },
      "source": [
        "sos_tkn = 0\n",
        "eos_tkn = 1\n",
        "\n",
        "class Sequence:\n",
        "    '''\n",
        "    Class to help make a dictionary. Each word from the input or target array is split into letters\n",
        "    and then added to the dictionary. Each letter is added to an index\n",
        "    '''\n",
        "    def __init__(self): \n",
        "    #initialize containers to hold the letters and corresponding index\n",
        "        self.letter2index = {}\n",
        "        self.letter2count = {}\n",
        "        self.index2letter = {}\n",
        "        self.n_letters = 2\n",
        "    \n",
        "    def addWord(self, word): \n",
        "         '''\n",
        "         Description: split a word into letters and pass to addLetter function\n",
        "         Input: word from input or target sequence\n",
        "         Output: none \n",
        "         '''\n",
        "         for letter in word:\n",
        "            self.addLetter(letter)\n",
        "     \n",
        "    def addLetter(self, letter): \n",
        "         if letter not in self.letter2index:\n",
        "             self.letter2index[letter] = self.n_letters\n",
        "             self.letter2count[letter] = 1\n",
        "             self.index2letter[self.n_letters] = letter\n",
        "             self.n_letters += 1\n",
        "         else:\n",
        "             self.letter2count[letter] += 1"
      ],
      "execution_count": null,
      "outputs": []
    },
    {
      "cell_type": "code",
      "metadata": {
        "id": "StQPQ9M4h5YC"
      },
      "source": [
        "def pairData(input, output): \n",
        "\n",
        "    source = Sequence()\n",
        "    target = Sequence()\n",
        "\n",
        "    pairs = []\n",
        "\n",
        "    for i in range(len(input)):\n",
        "        full = [input[i], output[i]]\n",
        "        source.addWord(input[i])\n",
        "        target.addWord(output[i])\n",
        "\n",
        "        pairs.append(full)\n",
        "\n",
        "    return source, target, pairs"
      ],
      "execution_count": null,
      "outputs": []
    },
    {
      "cell_type": "code",
      "metadata": {
        "id": "VqUS8TMatRhr"
      },
      "source": [
        "def loadPredict(input):\n",
        "    predict = Sequence()\n",
        "\n",
        "    for i in range(len(input)):\n",
        "        predict.addWord(input[i])\n",
        "    \n",
        "    return predict"
      ],
      "execution_count": null,
      "outputs": []
    },
    {
      "cell_type": "code",
      "metadata": {
        "colab": {
          "base_uri": "https://localhost:8080/"
        },
        "id": "Py0VXjf3mYXK",
        "outputId": "079a8a19-fb02-429a-e57c-fc158f842cb9"
      },
      "source": [
        "source, target, pairs = pairData(input, output)\n",
        "print(random.choice(pairs))"
      ],
      "execution_count": null,
      "outputs": [
        {
          "output_type": "stream",
          "name": "stdout",
          "text": [
            "['GILGFVFTL', 'CASSIYSSSYNEQFF']\n"
          ]
        }
      ]
    },
    {
      "cell_type": "code",
      "metadata": {
        "id": "VarjIWkFtZim"
      },
      "source": [
        "predict = loadPredict(predictInput)"
      ],
      "execution_count": null,
      "outputs": []
    },
    {
      "cell_type": "markdown",
      "metadata": {
        "id": "DgjXasQz133N"
      },
      "source": [
        "Convert to input tensors"
      ]
    },
    {
      "cell_type": "code",
      "metadata": {
        "id": "erClF72n13el"
      },
      "source": [
        "def indexesFromWord(Sequence, word):\n",
        "    return [Sequence.letter2index[letter] for letter in word]\n",
        "\n",
        "def tensorFromWord(Sequence, word):\n",
        "    indexes = indexesFromWord(Sequence, word)\n",
        "    indexes.append(eos_tkn)\n",
        "    return torch.tensor(indexes, dtype=torch.long, device=device).view(-1,1)\n",
        "\n",
        "def tensorsFromPair(pair):\n",
        "    input_tensor = tensorFromWord(source, pair[0])\n",
        "    target_tensor = tensorFromWord(target, pair[1])\n",
        "    return (input_tensor, target_tensor)\n",
        "\n",
        "def tensorsForPredict(input): \n",
        "    predict_tensor = tensorFromWord(predict, predictInput)\n",
        "    return predict_tensor"
      ],
      "execution_count": null,
      "outputs": []
    },
    {
      "cell_type": "markdown",
      "metadata": {
        "id": "QK53NOCYzLc0"
      },
      "source": [
        "#The Model\n"
      ]
    },
    {
      "cell_type": "code",
      "metadata": {
        "id": "Cyo2CqdxzO2N"
      },
      "source": [
        "class Encoder(nn.Module): \n",
        "    def __init__(self, input_size, hidden_size):\n",
        "        super(Encoder, self).__init__()\n",
        "        self.hidden_size = hidden_size\n",
        "\n",
        "        self.embedding = nn.Embedding(input_size, hidden_size)\n",
        "        self.gru = nn.GRU(hidden_size, hidden_size)\n",
        "\n",
        "    def forward(self, input, hidden):\n",
        "        embedded = self.embedding(input).view(1,1,-1)\n",
        "        output = embedded \n",
        "        output, hidden = self.gru(output, hidden)\n",
        "        return output, hidden\n",
        "\n",
        "    def initHidden(self): \n",
        "        return torch.zeros(1,1, self.hidden_size, device=device)\n",
        "\n"
      ],
      "execution_count": null,
      "outputs": []
    },
    {
      "cell_type": "code",
      "metadata": {
        "id": "SGVbmEg50ULm"
      },
      "source": [
        "class AttnDecoder(nn.Module):\n",
        "    def __init__(self, hidden_size, output_size, dropout_p=0.1, max_length=max_length):\n",
        "        super(AttnDecoder, self).__init__()\n",
        "        self.hidden_size = hidden_size\n",
        "        self.output_size = output_size\n",
        "        self.dropout_p = dropout_p\n",
        "        self.max_length = max_length\n",
        "\n",
        "        self.embedding = nn.Embedding(self.output_size, self.hidden_size)\n",
        "        self.attn = nn.Linear(self.hidden_size * 2, self.max_length)\n",
        "        self.attn_combine = nn.Linear(self.hidden_size * 2, self.hidden_size)\n",
        "        self.dropout = nn.Dropout(self.dropout_p)\n",
        "        self.gru = nn.GRU(self.hidden_size, self.hidden_size)\n",
        "        self.out = nn.Linear(self.hidden_size, self.output_size)\n",
        "\n",
        "    def forward(self, input, hidden, encoder_outputs):\n",
        "        embedded = self.embedding(input).view(1, 1, -1)\n",
        "        embedded = self.dropout(embedded)\n",
        "\n",
        "        attn_weights = F.softmax(\n",
        "            self.attn(torch.cat((embedded[0], hidden[0]), 1)), dim=1)\n",
        "        attn_applied = torch.bmm(attn_weights.unsqueeze(0),\n",
        "                                encoder_outputs.unsqueeze(0))\n",
        "\n",
        "        output = torch.cat((embedded[0], attn_applied[0]), 1)\n",
        "        output = self.attn_combine(output).unsqueeze(0)\n",
        "\n",
        "        output = F.relu(output)\n",
        "        output, hidden = self.gru(output, hidden)\n",
        "\n",
        "        output = F.log_softmax(self.out(output[0]), dim=1)\n",
        "        return output, hidden, attn_weights\n",
        "\n",
        "    def initHidden(self):\n",
        "        return torch.zeros(1, 1, self.hidden_size, device=device)\n"
      ],
      "execution_count": null,
      "outputs": []
    },
    {
      "cell_type": "markdown",
      "metadata": {
        "id": "8zU-nbSk7LbJ"
      },
      "source": [
        "#Training"
      ]
    },
    {
      "cell_type": "code",
      "metadata": {
        "id": "V_Vt464V7RUx"
      },
      "source": [
        "teacher_forcing_ratio = 0.5\n",
        "\n",
        "\n",
        "def train(input_tensor, target_tensor, encoder, decoder, encoder_optimizer, decoder_optimizer, criterion, max_length=max_length):\n",
        "    encoder_hidden = encoder.initHidden()\n",
        "\n",
        "    encoder_optimizer.zero_grad()\n",
        "    decoder_optimizer.zero_grad()\n",
        "\n",
        "    input_length = input_tensor.size(0)\n",
        "    target_length = target_tensor.size(0)\n",
        "\n",
        "    encoder_outputs = torch.zeros(max_length, encoder.hidden_size, device=device)\n",
        "\n",
        "    loss = 0\n",
        "\n",
        "    for ei in range(input_length):\n",
        "        encoder_output, encoder_hidden = encoder(\n",
        "            input_tensor[ei], encoder_hidden)\n",
        "        encoder_outputs[ei] = encoder_output[0, 0]\n",
        "\n",
        "    decoder_input = torch.tensor([[sos_tkn]], device=device)\n",
        "\n",
        "    decoder_hidden = encoder_hidden\n",
        "\n",
        "    use_teacher_forcing = True if random.random() < teacher_forcing_ratio else False\n",
        "\n",
        "    if use_teacher_forcing:\n",
        "        # Teacher forcing: Feed the target as the next input\n",
        "        for di in range(target_length):\n",
        "            decoder_output, decoder_hidden, decoder_attention = decoder(\n",
        "                decoder_input, decoder_hidden, encoder_outputs)\n",
        "            loss += criterion(decoder_output, target_tensor[di])\n",
        "            decoder_input = target_tensor[di]  # Teacher forcing\n",
        "\n",
        "    else:\n",
        "        # Without teacher forcing: use its own predictions as the next input\n",
        "        for di in range(target_length):\n",
        "            decoder_output, decoder_hidden, decoder_attention = decoder(\n",
        "                decoder_input, decoder_hidden, encoder_outputs)\n",
        "            topv, topi = decoder_output.topk(1)\n",
        "            decoder_input = topi.squeeze().detach()  # detach from history as input\n",
        "\n",
        "            loss += criterion(decoder_output, target_tensor[di])\n",
        "            if decoder_input.item() == eos_tkn:\n",
        "                break\n",
        "\n",
        "    loss.backward()\n",
        "\n",
        "    encoder_optimizer.step()\n",
        "    decoder_optimizer.step()\n",
        "\n",
        "    return loss.item() / target_length"
      ],
      "execution_count": null,
      "outputs": []
    },
    {
      "cell_type": "markdown",
      "metadata": {
        "id": "BCeNMOsx74Tv"
      },
      "source": [
        "Timer"
      ]
    },
    {
      "cell_type": "code",
      "metadata": {
        "id": "lnDjzuY27ynD"
      },
      "source": [
        "import time\n",
        "import math\n",
        "\n",
        "\n",
        "def asMinutes(s):\n",
        "    m = math.floor(s / 60)\n",
        "    s -= m * 60\n",
        "    return '%dm %ds' % (m, s)\n",
        "\n",
        "\n",
        "def timeSince(since, percent):\n",
        "    now = time.time()\n",
        "    s = now - since\n",
        "    es = s / (percent)\n",
        "    rs = es - s\n",
        "    return '%s (- %s)' % (asMinutes(s), asMinutes(rs))"
      ],
      "execution_count": null,
      "outputs": []
    },
    {
      "cell_type": "code",
      "metadata": {
        "id": "rmdkJmcD76pK"
      },
      "source": [
        "def trainIters(encoder, decoder, n_iters, print_every=1000, plot_every=100, learning_rate=0.001):\n",
        "    start = time.time()\n",
        "    plot_losses = []\n",
        "    print_loss_total = 0  # Reset every print_every\n",
        "    plot_loss_total = 0  # Reset every plot_every\n",
        "\n",
        "    encoder_optimizer = optim.SGD(encoder.parameters(), lr=learning_rate)\n",
        "    decoder_optimizer = optim.SGD(decoder.parameters(), lr=learning_rate)\n",
        "    training_pairs = [tensorsFromPair(random.choice(pairs))\n",
        "                      for i in range(n_iters)]\n",
        "    criterion = nn.NLLLoss()\n",
        "\n",
        "    for iter in range(1, n_iters + 1):\n",
        "        training_pair = training_pairs[iter - 1]\n",
        "        input_tensor = training_pair[0]\n",
        "        target_tensor = training_pair[1]\n",
        "\n",
        "        loss = train(input_tensor, target_tensor, encoder,\n",
        "                     decoder, encoder_optimizer, decoder_optimizer, criterion)\n",
        "        print_loss_total += loss\n",
        "        plot_loss_total += loss\n",
        "\n",
        "        if iter % print_every == 0:\n",
        "            print_loss_avg = print_loss_total / print_every\n",
        "            print_loss_total = 0\n",
        "            print('%s (%d %d%%) %.4f' % (timeSince(start, iter / n_iters),\n",
        "                                         iter, iter / n_iters * 100, print_loss_avg))\n",
        "\n",
        "        if iter % plot_every == 0:\n",
        "            plot_loss_avg = plot_loss_total / plot_every\n",
        "            plot_losses.append(plot_loss_avg)\n",
        "            plot_loss_total = 0\n",
        "\n",
        "    showPlot(plot_losses)"
      ],
      "execution_count": null,
      "outputs": []
    },
    {
      "cell_type": "markdown",
      "metadata": {
        "id": "OBylssu48QBD"
      },
      "source": [
        "Plot Results"
      ]
    },
    {
      "cell_type": "code",
      "metadata": {
        "id": "FQF_LhlX8Bi8"
      },
      "source": [
        "import matplotlib.pyplot as plt\n",
        "plt.switch_backend('agg')\n",
        "import matplotlib.ticker as ticker\n",
        "import numpy as np\n",
        "\n",
        "\n",
        "def showPlot(points):\n",
        "    plt.figure()\n",
        "    fig, ax = plt.subplots()\n",
        "    # this locator puts ticks at regular intervals\n",
        "    loc = ticker.MultipleLocator(base=0.2)\n",
        "    ax.yaxis.set_major_locator(loc)\n",
        "    plt.plot(points)"
      ],
      "execution_count": null,
      "outputs": []
    },
    {
      "cell_type": "markdown",
      "metadata": {
        "id": "FyBKNkiX8c8i"
      },
      "source": [
        "#Evaluation"
      ]
    },
    {
      "cell_type": "code",
      "metadata": {
        "id": "JjivbrQ08fQ3"
      },
      "source": [
        "def evaluate(encoder, decoder, sentence, max_length=max_length):\n",
        "    with torch.no_grad():\n",
        "        input_tensor = tensorFromWord(source, sentence)\n",
        "        input_length = input_tensor.size()[0]\n",
        "        encoder_hidden = encoder.initHidden()\n",
        "\n",
        "        encoder_outputs = torch.zeros(max_length, encoder.hidden_size, device=device)\n",
        "\n",
        "        for ei in range(input_length):\n",
        "            encoder_output, encoder_hidden = encoder(input_tensor[ei],\n",
        "                                                     encoder_hidden)\n",
        "            encoder_outputs[ei] += encoder_output[0, 0]\n",
        "\n",
        "        decoder_input = torch.tensor([[sos_tkn]], device=device)  # SOS\n",
        "\n",
        "        decoder_hidden = encoder_hidden\n",
        "\n",
        "        decoded_words = []\n",
        "        decoder_attentions = torch.zeros(max_length, max_length)\n",
        "\n",
        "        for di in range(max_length):\n",
        "            decoder_output, decoder_hidden, decoder_attention = decoder(\n",
        "                decoder_input, decoder_hidden, encoder_outputs)\n",
        "            decoder_attentions[di] = decoder_attention.data\n",
        "            topv, topi = decoder_output.data.topk(1)\n",
        "            if topi.item() == eos_tkn:\n",
        "                decoded_words.append('<EOS>')\n",
        "                break\n",
        "            else:\n",
        "                decoded_words.append(target.index2letter[topi.item()])\n",
        "\n",
        "            decoder_input = topi.squeeze().detach()\n",
        "\n",
        "        return decoded_words, decoder_attentions[:di + 1]"
      ],
      "execution_count": null,
      "outputs": []
    },
    {
      "cell_type": "code",
      "metadata": {
        "id": "KrtCq4OD9yCT"
      },
      "source": [
        "def evaluateRandomly(encoder, decoder, n=10):\n",
        "    for i in range(n):\n",
        "        pair = random.choice(pairs)\n",
        "        print('>', pair[0])\n",
        "        print('=', pair[1])\n",
        "        output_letters, attentions = evaluate(encoder, decoder, pair[0])\n",
        "        output_word = ''.join(output_letters[:-1])\n",
        "        #output_word = 'C'+output_word+'F'\n",
        "        print('<', output_word)\n",
        "        print('')"
      ],
      "execution_count": null,
      "outputs": []
    },
    {
      "cell_type": "code",
      "metadata": {
        "id": "mP4dof3RyvCo"
      },
      "source": [
        "def evalOnPred(encoder, decoder, word, max_length=max_length):\n",
        "     with torch.no_grad(): \n",
        "        input_tensor = tensorFromWord(predict, word)\n",
        "        input_length = input_tensor.size()[0]\n",
        "        encoder_hidden = encoder.initHidden()\n",
        "\n",
        "        encoder_outputs = torch.zeros(max_length, encoder.hidden_size, device=device)\n",
        "\n",
        "        for ei in range(input_length):\n",
        "                encoder_output, encoder_hidden = encoder(input_tensor[ei],\n",
        "                                                        encoder_hidden)\n",
        "                encoder_outputs[ei] += encoder_output[0, 0]\n",
        "\n",
        "        decoder_input = torch.tensor([[sos_tkn]], device=device)  # SOS\n",
        "\n",
        "        decoder_hidden = encoder_hidden\n",
        "\n",
        "        decoded_words = []\n",
        "        decoder_attentions = torch.zeros(max_length, max_length)\n",
        "\n",
        "        for di in range(max_length):\n",
        "            decoder_output, decoder_hidden, decoder_attention = decoder(\n",
        "                decoder_input, decoder_hidden, encoder_outputs)\n",
        "            decoder_attentions[di] = decoder_attention.data\n",
        "            topv, topi = decoder_output.data.topk(1)\n",
        "            if topi.item() == eos_tkn:\n",
        "                decoded_words.append('<EOS>')\n",
        "                break\n",
        "            else:\n",
        "                decoded_words.append(target.index2letter[topi.item()])\n",
        "\n",
        "            decoder_input = topi.squeeze().detach()\n",
        "\n",
        "        return decoded_words, decoder_attentions[:di + 1]"
      ],
      "execution_count": null,
      "outputs": []
    },
    {
      "cell_type": "code",
      "metadata": {
        "id": "vmUYVCLnq0-v"
      },
      "source": [
        "def evaluatePredictionData(encoder, decoder):\n",
        "    with open('result_predict.txt', 'a') as f:\n",
        "        for i in range(len(predictInput)):\n",
        "            print('>', predictInput[i])\n",
        "            output_letters, attentions = evalOnPred(encoder, decoder, predictInput[i])\n",
        "\n",
        "            \n",
        "            output_word = ''.join(output_letters[0:-1])\n",
        "            #print('=', ('C'+output_word+'F'))\n",
        "            print('=', (output_word))\n",
        "            f.write(predictInput[i])\n",
        "            f.write(',')\n",
        "            #f.write('C'+output_word+'F')\n",
        "            f.write(output_word)\n",
        "            f.write('\\n')"
      ],
      "execution_count": null,
      "outputs": []
    },
    {
      "cell_type": "code",
      "metadata": {
        "id": "tZQYAgZo957x",
        "colab": {
          "base_uri": "https://localhost:8080/"
        },
        "outputId": "a9932112-7933-4802-df20-3087e7d52ddc"
      },
      "source": [
        "hidden_size = 256\n",
        "device = torch.device(\"cuda\" if torch.cuda.is_available() else \"cpu\")\n",
        "encoder1 = Encoder(source.n_letters, hidden_size).to(device)\n",
        "attn_decoder1 = AttnDecoder(hidden_size, target.n_letters, dropout_p=0.1).to(device)\n",
        "\n",
        "trainIters(encoder1, attn_decoder1, 100000, print_every=5000)\n",
        "\n",
        "#save models\n",
        "torch.save(encoder1.state_dict(), 'encoder_model_dp_0.5.pt')\n",
        "torch.save(attn_decoder1.state_dict(), 'decoder_model_dp_0.5.pt' )"
      ],
      "execution_count": null,
      "outputs": [
        {
          "output_type": "stream",
          "name": "stdout",
          "text": [
            "3m 22s (- 64m 11s) (5000 5%) 1.8828\n",
            "6m 42s (- 60m 18s) (10000 10%) 1.7730\n",
            "10m 3s (- 57m 1s) (15000 15%) 1.7155\n"
          ]
        }
      ]
    },
    {
      "cell_type": "markdown",
      "metadata": {
        "id": "1YVbSxs1p6M5"
      },
      "source": [
        "#Load Models (optional)\n"
      ]
    },
    {
      "cell_type": "code",
      "metadata": {
        "colab": {
          "base_uri": "https://localhost:8080/"
        },
        "id": "jue7Kadbp5N9",
        "outputId": "de7c6562-ad05-4c05-a1ca-70ea78c00970"
      },
      "source": [
        "hidden_size = 256\n",
        "device = torch.device(\"cuda\" if torch.cuda.is_available() else \"cpu\")\n",
        "encoder1 = Encoder(source.n_letters, hidden_size).to(device)\n",
        "attn_decoder1 = AttnDecoder(hidden_size, target.n_letters, dropout_p=0.5).to(device)\n",
        "\n",
        "encoder1.load_state_dict(torch.load('encoder_model_dp_0.5.pt', map_location=device))\n",
        "encoder1.eval()\n",
        "\n",
        "attn_decoder1.load_state_dict(torch.load('decoder_model_dp_0.5.pt', map_location=device))\n",
        "attn_decoder1.eval()"
      ],
      "execution_count": null,
      "outputs": [
        {
          "output_type": "execute_result",
          "data": {
            "text/plain": [
              "AttnDecoder(\n",
              "  (embedding): Embedding(22, 256)\n",
              "  (attn): Linear(in_features=512, out_features=24, bias=True)\n",
              "  (attn_combine): Linear(in_features=512, out_features=256, bias=True)\n",
              "  (dropout): Dropout(p=0.5, inplace=False)\n",
              "  (gru): GRU(256, 256)\n",
              "  (out): Linear(in_features=256, out_features=22, bias=True)\n",
              ")"
            ]
          },
          "metadata": {},
          "execution_count": 21
        }
      ]
    },
    {
      "cell_type": "markdown",
      "metadata": {
        "id": "5PlcI6LaTY9J"
      },
      "source": [
        "#Evaluate and Write To Output"
      ]
    },
    {
      "cell_type": "code",
      "metadata": {
        "id": "ocI7G3uFpyJ5"
      },
      "source": [
        "evaluateRandomly(encoder1, attn_decoder1)"
      ],
      "execution_count": null,
      "outputs": []
    },
    {
      "cell_type": "code",
      "metadata": {
        "id": "s9iYJectvIzF"
      },
      "source": [
        "evaluatePredictionData(encoder1, attn_decoder1)"
      ],
      "execution_count": null,
      "outputs": []
    }
  ]
}